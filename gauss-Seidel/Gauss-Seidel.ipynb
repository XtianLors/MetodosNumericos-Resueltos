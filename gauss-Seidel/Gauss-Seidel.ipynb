{
 "cells": [
  {
   "cell_type": "code",
   "execution_count": 2,
   "id": "2cdaf168-8dba-4867-9395-b40eedc5d140",
   "metadata": {},
   "outputs": [],
   "source": [
    "import numpy as np\n",
    "from IPython.display import display, HTML\n",
    "import matplotlib.pyplot as plt\n",
    "import pandas as pd\n",
    "import os"
   ]
  },
  {
   "cell_type": "code",
   "execution_count": 3,
   "id": "521f9a50-65bb-4750-969c-3e6685554eaa",
   "metadata": {},
   "outputs": [],
   "source": [
    "x = np.arange(-100, 100, 1)\n",
    "y = np.exp(-x)"
   ]
  },
  {
   "cell_type": "code",
   "execution_count": 5,
   "id": "7be841ea-5b7a-47cb-a5f7-4aa89b1faf8f",
   "metadata": {},
   "outputs": [
    {
     "data": {
      "image/png": "[encoded data removed]",
      "text/plain": [
       "<Figure size 432x288 with 1 Axes>"
      ]
     },
     "metadata": {
      "needs_background": "light"
     },
     "output_type": "display_data"
    }
   ],
   "source": [
    "plt.plot(x, y)\n",
    "plt.ylabel('e(-x)')\n",
    "plt.xlabel('x')\n",
    "plt.axvline(x=0, ymin=-10, ymax=10, color='0')\n",
    "plt.grid()\n",
    "plt.show()"
   ]
  },
  {
   "cell_type": "code",
   "execution_count": 6,
   "id": "6f691600-d708-4772-b6c2-4156864b235f",
   "metadata": {},
   "outputs": [],
   "source": [
    "g_header = {'x': x, 'e(-x)': y}\n",
    "data_g =  pd.DataFrame(data=g_header)"
   ]
  },
  {
   "cell_type": "code",
   "execution_count": 7,
   "id": "3690d740-23b7-4eab-976d-f7b54a787d56",
   "metadata": {},
   "outputs": [
    {
     "data": {
      "text/html": [
       "<div>\n",
       "<style scoped>\n",
       "    .dataframe tbody tr th:only-of-type {\n",
       "        vertical-align: middle;\n",
       "    }\n",
       "\n",
       "    .dataframe tbody tr th {\n",
       "        vertical-align: top;\n",
       "    }\n",
       "\n",
       "    .dataframe thead th {\n",
       "        text-align: right;\n",
       "    }\n",
       "</style>\n",
       "<table border=\"1\" class=\"dataframe\">\n",
       "  <thead>\n",
       "    <tr style=\"text-align: right;\">\n",
       "      <th></th>\n",
       "      <th>x</th>\n",
       "      <th>e(-x)</th>\n",
       "    </tr>\n",
       "  </thead>\n",
       "  <tbody>\n",
       "    <tr>\n",
       "      <th>0</th>\n",
       "      <td>-100</td>\n",
       "      <td>2.688117e+43</td>\n",
       "    </tr>\n",
       "    <tr>\n",
       "      <th>1</th>\n",
       "      <td>-99</td>\n",
       "      <td>9.889030e+42</td>\n",
       "    </tr>\n",
       "    <tr>\n",
       "      <th>2</th>\n",
       "      <td>-98</td>\n",
       "      <td>3.637971e+42</td>\n",
       "    </tr>\n",
       "    <tr>\n",
       "      <th>3</th>\n",
       "      <td>-97</td>\n",
       "      <td>1.338335e+42</td>\n",
       "    </tr>\n",
       "    <tr>\n",
       "      <th>4</th>\n",
       "      <td>-96</td>\n",
       "      <td>4.923458e+41</td>\n",
       "    </tr>\n",
       "    <tr>\n",
       "      <th>...</th>\n",
       "      <td>...</td>\n",
       "      <td>...</td>\n",
       "    </tr>\n",
       "    <tr>\n",
       "      <th>195</th>\n",
       "      <td>95</td>\n",
       "      <td>5.521082e-42</td>\n",
       "    </tr>\n",
       "    <tr>\n",
       "      <th>196</th>\n",
       "      <td>96</td>\n",
       "      <td>2.031093e-42</td>\n",
       "    </tr>\n",
       "    <tr>\n",
       "      <th>197</th>\n",
       "      <td>97</td>\n",
       "      <td>7.471972e-43</td>\n",
       "    </tr>\n",
       "    <tr>\n",
       "      <th>198</th>\n",
       "      <td>98</td>\n",
       "      <td>2.748785e-43</td>\n",
       "    </tr>\n",
       "    <tr>\n",
       "      <th>199</th>\n",
       "      <td>99</td>\n",
       "      <td>1.011221e-43</td>\n",
       "    </tr>\n",
       "  </tbody>\n",
       "</table>\n",
       "<p>200 rows × 2 columns</p>\n",
       "</div>"
      ],
      "text/plain": [
       "       x         e(-x)\n",
       "0   -100  2.688117e+43\n",
       "1    -99  9.889030e+42\n",
       "2    -98  3.637971e+42\n",
       "3    -97  1.338335e+42\n",
       "4    -96  4.923458e+41\n",
       "..   ...           ...\n",
       "195   95  5.521082e-42\n",
       "196   96  2.031093e-42\n",
       "197   97  7.471972e-43\n",
       "198   98  2.748785e-43\n",
       "199   99  1.011221e-43\n",
       "\n",
       "[200 rows x 2 columns]"
      ]
     },
     "execution_count": 7,
     "metadata": {},
     "output_type": "execute_result"
    }
   ],
   "source": [
    "data_g"
   ]
  },
  {
   "cell_type": "code",
   "execution_count": 12,
   "id": "25f9eede-8bca-4f98-b622-96b65d4fa11e",
   "metadata": {},
   "outputs": [],
   "source": [
    "\n",
    "#Escribir las ecuaciones de x\n",
    "x_1 = lambda x_2_p, x_3_p : (610-(x_2_p+ 3*x_3_p))/2\n",
    "x_2 = lambda x_1_p, x_3_p : (510-(x_1_p+ 3*x_3_p))/3\n",
    "x_3 = lambda x_1_p, x_2_p : (960-(4*x_1_p+ 3*x_2_p))/2\n",
    "\n",
    "\n"
   ]
  },
  {
   "cell_type": "code",
   "execution_count": 11,
   "id": "fb636002-c101-4331-921b-56950ed60dcd",
   "metadata": {},
   "outputs": [
    {
     "data": {
      "text/plain": [
       "301.5"
      ]
     },
     "execution_count": 11,
     "metadata": {},
     "output_type": "execute_result"
    }
   ],
   "source": [
    "x_1(1,2)"
   ]
  },
  {
   "cell_type": "code",
   "execution_count": null,
   "id": "f9e1e0fd-3eb1-4ede-878e-e6b65d8b2c6d",
   "metadata": {},
   "outputs": [],
   "source": []
  }
 ],
 "metadata": {
  "kernelspec": {
   "display_name": "venv",
   "language": "python",
   "name": "venv"
  },
  "language_info": {
   "codemirror_mode": {
    "name": "ipython",
    "version": 3
   },
   "file_extension": ".py",
   "mimetype": "text/x-python",
   "name": "python",
   "nbconvert_exporter": "python",
   "pygments_lexer": "ipython3",
   "version": "3.9.1"
  }
 },
 "nbformat": 4,
 "nbformat_minor": 5
}
