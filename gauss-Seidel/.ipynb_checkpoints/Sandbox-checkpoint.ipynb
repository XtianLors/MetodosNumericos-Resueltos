{
 "cells": [
  {
   "cell_type": "code",
   "execution_count": 1,
   "id": "7ece52bd-8cb9-46dc-8d42-930e07636b68",
   "metadata": {},
   "outputs": [],
   "source": [
    "import numpy as np\n",
    "from IPython.display import display, HTML\n",
    "import matplotlib.pyplot as plt\n",
    "import pandas as pd\n",
    "#import os"
   ]
  },
  {
   "cell_type": "code",
   "execution_count": 2,
   "id": "35698e7e-e54c-40b9-b215-46468dba66ec",
   "metadata": {},
   "outputs": [],
   "source": [
    "#Programa de Jacobi\n",
    "x_1 = lambda x_2_p=0, x_3_p=0 : (610-(x_2_p+ 3*x_3_p))/2\n",
    "x_2 = lambda x_1_p, x_3_p=0 : (510-(x_1_p+ 3*x_3_p))/3\n",
    "x_3 = lambda x_1_p, x_2_p : (960-(4*x_1_p+ 3*x_2_p))/2\n",
    "\n",
    "def Jacobi():\n",
    "    #First Operation\n",
    "    v_x_1 = x_1()\n",
    "    v_x_2 = x_2(v_x_1)\n",
    "    v_x_3 = x_3(v_x_1, v_x_2)\n",
    "        \n",
    "    #Save variables in table:\n",
    "    re_v_x_1 = v_x_1\n",
    "    re_v_x_2 = v_x_2\n",
    "    re_v_x_3 = v_x_3\n",
    "\n",
    "    x1_tab_val = []\n",
    "    x2_tab_val = []\n",
    "    x3_tab_val = []\n",
    "    \n",
    "    x1_tab_val.append(re_v_x_1)\n",
    "    x2_tab_val.append(re_v_x_2)\n",
    "    x3_tab_val.append(re_v_x_3)\n",
    "    \n",
    "    d = {'x_1': x1_tab_val, 'x_2': x2_tab_val, 'x_3': x3_tab_val}\n",
    "    df = pd.DataFrame(data=d)\n",
    "    display(df) \n",
    "    \n",
    "    #Recursive Operation calculation\n",
    "    keep_iter = True\n",
    "    repetitions = 1\n",
    "    while keep_iter == True:\n",
    "        \n",
    "        #Number of Repetitions\n",
    "        print(\"______________________________________\\n\")\n",
    "        repetitions += 1\n",
    "        print(f\"Repetition number: {repetitions}\\n\")\n",
    "        \n",
    "        #Operations to declare variables\n",
    "        re_v_x_1 = x_1(re_v_x_2, re_v_x_3)\n",
    "        re_v_x_2 = x_2(re_v_x_1, re_v_x_3)\n",
    "        re_v_x_3 = x_3(re_v_x_1, re_v_x_2)\n",
    "        \n",
    "        #Update table\n",
    "        d2 = {'x_1': re_v_x_1, 'x_2': re_v_x_2, 'x_3': re_v_x_3}\n",
    "        df = df.append(d2, ignore_index = True) \n",
    "        display(df)\n",
    "        \n",
    "        \n",
    "        #Save Variables with new values\n",
    "        v_x_1 = re_v_x_1\n",
    "        v_x_2 = re_v_x_2\n",
    "        v_x_3 = re_v_x_3\n",
    "        \n",
    "        #Continue yes or no?\n",
    "        keep_iter = bool(input(\"\\nDo you want to keep iterating?\\n Type True to continue, type False to stop: \"))\n",
    "\n",
    "    \n",
    "    return v_x_1, v_x_2, v_x_3"
   ]
  },
  {
   "cell_type": "code",
   "execution_count": 15,
   "id": "ec2dc325-6d01-410a-9d97-b03348c37fe7",
   "metadata": {},
   "outputs": [],
   "source": [
    "v_x_1 = x_1()"
   ]
  },
  {
   "cell_type": "code",
   "execution_count": 16,
   "id": "c89c30a7-3a36-44bf-a55c-8e71e65b8ae5",
   "metadata": {},
   "outputs": [
    {
     "data": {
      "text/plain": [
       "-135.0"
      ]
     },
     "execution_count": 16,
     "metadata": {},
     "output_type": "execute_result"
    }
   ],
   "source": [
    "x_2(0, v_x_1)"
   ]
  },
  {
   "cell_type": "code",
   "execution_count": null,
   "id": "2517bb0b-6c77-45ae-9d6f-3e3607992a08",
   "metadata": {},
   "outputs": [
    {
     "data": {
      "text/html": [
       "<div>\n",
       "<style scoped>\n",
       "    .dataframe tbody tr th:only-of-type {\n",
       "        vertical-align: middle;\n",
       "    }\n",
       "\n",
       "    .dataframe tbody tr th {\n",
       "        vertical-align: top;\n",
       "    }\n",
       "\n",
       "    .dataframe thead th {\n",
       "        text-align: right;\n",
       "    }\n",
       "</style>\n",
       "<table border=\"1\" class=\"dataframe\">\n",
       "  <thead>\n",
       "    <tr style=\"text-align: right;\">\n",
       "      <th></th>\n",
       "      <th>x_1</th>\n",
       "      <th>x_2</th>\n",
       "      <th>x_3</th>\n",
       "    </tr>\n",
       "  </thead>\n",
       "  <tbody>\n",
       "    <tr>\n",
       "      <th>0</th>\n",
       "      <td>305.0</td>\n",
       "      <td>68.333333</td>\n",
       "      <td>-232.5</td>\n",
       "    </tr>\n",
       "  </tbody>\n",
       "</table>\n",
       "</div>"
      ],
      "text/plain": [
       "     x_1        x_2    x_3\n",
       "0  305.0  68.333333 -232.5"
      ]
     },
     "metadata": {},
     "output_type": "display_data"
    },
    {
     "name": "stdout",
     "output_type": "stream",
     "text": [
      "______________________________________\n",
      "\n",
      "Repetition number: 1\n",
      "\n"
     ]
    },
    {
     "name": "stderr",
     "output_type": "stream",
     "text": [
      "C:\\Users\\crisd\\AppData\\Local\\Temp\\ipykernel_24652\\3520529764.py:46: FutureWarning: The frame.append method is deprecated and will be removed from pandas in a future version. Use pandas.concat instead.\n",
      "  df = df.append(d2, ignore_index = True)\n"
     ]
    },
    {
     "data": {
      "text/html": [
       "<div>\n",
       "<style scoped>\n",
       "    .dataframe tbody tr th:only-of-type {\n",
       "        vertical-align: middle;\n",
       "    }\n",
       "\n",
       "    .dataframe tbody tr th {\n",
       "        vertical-align: top;\n",
       "    }\n",
       "\n",
       "    .dataframe thead th {\n",
       "        text-align: right;\n",
       "    }\n",
       "</style>\n",
       "<table border=\"1\" class=\"dataframe\">\n",
       "  <thead>\n",
       "    <tr style=\"text-align: right;\">\n",
       "      <th></th>\n",
       "      <th>x_1</th>\n",
       "      <th>x_2</th>\n",
       "      <th>x_3</th>\n",
       "    </tr>\n",
       "  </thead>\n",
       "  <tbody>\n",
       "    <tr>\n",
       "      <th>0</th>\n",
       "      <td>305.000000</td>\n",
       "      <td>68.333333</td>\n",
       "      <td>-232.500</td>\n",
       "    </tr>\n",
       "    <tr>\n",
       "      <th>1</th>\n",
       "      <td>619.583333</td>\n",
       "      <td>195.972222</td>\n",
       "      <td>-1053.125</td>\n",
       "    </tr>\n",
       "  </tbody>\n",
       "</table>\n",
       "</div>"
      ],
      "text/plain": [
       "          x_1         x_2       x_3\n",
       "0  305.000000   68.333333  -232.500\n",
       "1  619.583333  195.972222 -1053.125"
      ]
     },
     "metadata": {},
     "output_type": "display_data"
    },
    {
     "name": "stdin",
     "output_type": "stream",
     "text": [
      "\n",
      "Do you want to keep iterating?\n",
      " Type True to continue, type False to stop:  True\n"
     ]
    },
    {
     "name": "stdout",
     "output_type": "stream",
     "text": [
      "______________________________________\n",
      "\n",
      "Repetition number: 2\n",
      "\n"
     ]
    },
    {
     "name": "stderr",
     "output_type": "stream",
     "text": [
      "C:\\Users\\crisd\\AppData\\Local\\Temp\\ipykernel_24652\\3520529764.py:46: FutureWarning: The frame.append method is deprecated and will be removed from pandas in a future version. Use pandas.concat instead.\n",
      "  df = df.append(d2, ignore_index = True)\n"
     ]
    },
    {
     "data": {
      "text/html": [
       "<div>\n",
       "<style scoped>\n",
       "    .dataframe tbody tr th:only-of-type {\n",
       "        vertical-align: middle;\n",
       "    }\n",
       "\n",
       "    .dataframe tbody tr th {\n",
       "        vertical-align: top;\n",
       "    }\n",
       "\n",
       "    .dataframe thead th {\n",
       "        text-align: right;\n",
       "    }\n",
       "</style>\n",
       "<table border=\"1\" class=\"dataframe\">\n",
       "  <thead>\n",
       "    <tr style=\"text-align: right;\">\n",
       "      <th></th>\n",
       "      <th>x_1</th>\n",
       "      <th>x_2</th>\n",
       "      <th>x_3</th>\n",
       "    </tr>\n",
       "  </thead>\n",
       "  <tbody>\n",
       "    <tr>\n",
       "      <th>0</th>\n",
       "      <td>305.000000</td>\n",
       "      <td>68.333333</td>\n",
       "      <td>-232.500000</td>\n",
       "    </tr>\n",
       "    <tr>\n",
       "      <th>1</th>\n",
       "      <td>619.583333</td>\n",
       "      <td>195.972222</td>\n",
       "      <td>-1053.125000</td>\n",
       "    </tr>\n",
       "    <tr>\n",
       "      <th>2</th>\n",
       "      <td>1786.701389</td>\n",
       "      <td>627.557870</td>\n",
       "      <td>-4034.739583</td>\n",
       "    </tr>\n",
       "  </tbody>\n",
       "</table>\n",
       "</div>"
      ],
      "text/plain": [
       "           x_1         x_2          x_3\n",
       "0   305.000000   68.333333  -232.500000\n",
       "1   619.583333  195.972222 -1053.125000\n",
       "2  1786.701389  627.557870 -4034.739583"
      ]
     },
     "metadata": {},
     "output_type": "display_data"
    },
    {
     "name": "stdin",
     "output_type": "stream",
     "text": [
      "\n",
      "Do you want to keep iterating?\n",
      " Type True to continue, type False to stop:  True\n"
     ]
    },
    {
     "name": "stdout",
     "output_type": "stream",
     "text": [
      "______________________________________\n",
      "\n",
      "Repetition number: 3\n",
      "\n"
     ]
    },
    {
     "name": "stderr",
     "output_type": "stream",
     "text": [
      "C:\\Users\\crisd\\AppData\\Local\\Temp\\ipykernel_24652\\3520529764.py:46: FutureWarning: The frame.append method is deprecated and will be removed from pandas in a future version. Use pandas.concat instead.\n",
      "  df = df.append(d2, ignore_index = True)\n"
     ]
    },
    {
     "data": {
      "text/html": [
       "<div>\n",
       "<style scoped>\n",
       "    .dataframe tbody tr th:only-of-type {\n",
       "        vertical-align: middle;\n",
       "    }\n",
       "\n",
       "    .dataframe tbody tr th {\n",
       "        vertical-align: top;\n",
       "    }\n",
       "\n",
       "    .dataframe thead th {\n",
       "        text-align: right;\n",
       "    }\n",
       "</style>\n",
       "<table border=\"1\" class=\"dataframe\">\n",
       "  <thead>\n",
       "    <tr style=\"text-align: right;\">\n",
       "      <th></th>\n",
       "      <th>x_1</th>\n",
       "      <th>x_2</th>\n",
       "      <th>x_3</th>\n",
       "    </tr>\n",
       "  </thead>\n",
       "  <tbody>\n",
       "    <tr>\n",
       "      <th>0</th>\n",
       "      <td>305.000000</td>\n",
       "      <td>68.333333</td>\n",
       "      <td>-232.500000</td>\n",
       "    </tr>\n",
       "    <tr>\n",
       "      <th>1</th>\n",
       "      <td>619.583333</td>\n",
       "      <td>195.972222</td>\n",
       "      <td>-1053.125000</td>\n",
       "    </tr>\n",
       "    <tr>\n",
       "      <th>2</th>\n",
       "      <td>1786.701389</td>\n",
       "      <td>627.557870</td>\n",
       "      <td>-4034.739583</td>\n",
       "    </tr>\n",
       "    <tr>\n",
       "      <th>3</th>\n",
       "      <td>6043.330440</td>\n",
       "      <td>2190.296103</td>\n",
       "      <td>-14892.105035</td>\n",
       "    </tr>\n",
       "  </tbody>\n",
       "</table>\n",
       "</div>"
      ],
      "text/plain": [
       "           x_1          x_2           x_3\n",
       "0   305.000000    68.333333   -232.500000\n",
       "1   619.583333   195.972222  -1053.125000\n",
       "2  1786.701389   627.557870  -4034.739583\n",
       "3  6043.330440  2190.296103 -14892.105035"
      ]
     },
     "metadata": {},
     "output_type": "display_data"
    },
    {
     "name": "stdin",
     "output_type": "stream",
     "text": [
      "\n",
      "Do you want to keep iterating?\n",
      " Type True to continue, type False to stop:  True\n"
     ]
    },
    {
     "name": "stdout",
     "output_type": "stream",
     "text": [
      "______________________________________\n",
      "\n",
      "Repetition number: 4\n",
      "\n"
     ]
    },
    {
     "name": "stderr",
     "output_type": "stream",
     "text": [
      "C:\\Users\\crisd\\AppData\\Local\\Temp\\ipykernel_24652\\3520529764.py:46: FutureWarning: The frame.append method is deprecated and will be removed from pandas in a future version. Use pandas.concat instead.\n",
      "  df = df.append(d2, ignore_index = True)\n"
     ]
    },
    {
     "data": {
      "text/html": [
       "<div>\n",
       "<style scoped>\n",
       "    .dataframe tbody tr th:only-of-type {\n",
       "        vertical-align: middle;\n",
       "    }\n",
       "\n",
       "    .dataframe tbody tr th {\n",
       "        vertical-align: top;\n",
       "    }\n",
       "\n",
       "    .dataframe thead th {\n",
       "        text-align: right;\n",
       "    }\n",
       "</style>\n",
       "<table border=\"1\" class=\"dataframe\">\n",
       "  <thead>\n",
       "    <tr style=\"text-align: right;\">\n",
       "      <th></th>\n",
       "      <th>x_1</th>\n",
       "      <th>x_2</th>\n",
       "      <th>x_3</th>\n",
       "    </tr>\n",
       "  </thead>\n",
       "  <tbody>\n",
       "    <tr>\n",
       "      <th>0</th>\n",
       "      <td>305.000000</td>\n",
       "      <td>68.333333</td>\n",
       "      <td>-232.500000</td>\n",
       "    </tr>\n",
       "    <tr>\n",
       "      <th>1</th>\n",
       "      <td>619.583333</td>\n",
       "      <td>195.972222</td>\n",
       "      <td>-1053.125000</td>\n",
       "    </tr>\n",
       "    <tr>\n",
       "      <th>2</th>\n",
       "      <td>1786.701389</td>\n",
       "      <td>627.557870</td>\n",
       "      <td>-4034.739583</td>\n",
       "    </tr>\n",
       "    <tr>\n",
       "      <th>3</th>\n",
       "      <td>6043.330440</td>\n",
       "      <td>2190.296103</td>\n",
       "      <td>-14892.105035</td>\n",
       "    </tr>\n",
       "    <tr>\n",
       "      <th>4</th>\n",
       "      <td>21548.009500</td>\n",
       "      <td>7879.435201</td>\n",
       "      <td>-54435.171803</td>\n",
       "    </tr>\n",
       "  </tbody>\n",
       "</table>\n",
       "</div>"
      ],
      "text/plain": [
       "            x_1          x_2           x_3\n",
       "0    305.000000    68.333333   -232.500000\n",
       "1    619.583333   195.972222  -1053.125000\n",
       "2   1786.701389   627.557870  -4034.739583\n",
       "3   6043.330440  2190.296103 -14892.105035\n",
       "4  21548.009500  7879.435201 -54435.171803"
      ]
     },
     "metadata": {},
     "output_type": "display_data"
    }
   ],
   "source": [
    "Jacobi()"
   ]
  },
  {
   "cell_type": "markdown",
   "id": "27fd27a1-f42e-49e3-8dde-50d719a3c921",
   "metadata": {},
   "source": [
    "# References"
   ]
  },
  {
   "cell_type": "markdown",
   "id": "381d3507-2dc5-4b27-b4f9-ef92785d5b4c",
   "metadata": {},
   "source": [
    "- https://matplotlib.org/stable/api/_as_gen/matplotlib.pyplot.axvline.html\n",
    "\n",
    "-[matplotlib.axes.Axes.plot](https://matplotlib.org/stable/api/_as_gen/matplotlib.axes.Axes.plot.html#matplotlib.axes.Axes.plot)\n",
    "\n",
    "- [Subplots, axes and figures](https://matplotlib.org/stable/gallery/subplots_axes_and_figures/index.html)\n",
    "\n",
    "-[Crear matrices en LaTeX](https://manualdelatex.com/tutoriales/matrices)\n",
    "\n",
    "- [Mathematical functions](https://numpy.org/doc/stable/reference/routines.math.html)\n",
    "\n",
    "- [Cómo trazar una línea horizontal y vertical en Matplotlib](https://www.delftstack.com/es/howto/matplotlib/how-to-plot-horizontal-and-vertical-line-in-matplotlib/)\n",
    "\n",
    "- [](https://stackoverflow.com/questions/30958954/optional-argument-in-lambda-function)\n",
    "\n",
    "- [](https://www.youtube.com/watch?v=MImAiZIzzd4)\n",
    "\n",
    "- [](https://stackoverflow.com/questions/10345278/understanding-lambda-in-python-and-using-it-to-pass-multiple-arguments)\n",
    "\n",
    "- [](https://www.freecodecamp.org/espanol/news/python-tutorial-ciclos-while/)\n",
    "\n",
    "- [](https://python.plainenglish.io/while-loops-in-python-a-brief-guide-to-iterative-control-flow-4d7665888968)\n",
    "\n",
    "- [](https://realpython.com/python-while-loop/)\n",
    "\n",
    "- [](https://stackoverflow.com/questions/71938550/python-endless-while-loop-with-fixed-frequency)\n",
    "\n",
    "- [](https://stackoverflow.com/questions/10979667/showing-line-numbers-in-ipython-jupyter-notebookshttps://stackoverflow.com/questions/10979667/showing-line-numbers-in-ipython-jupyter-notebooks)\n"
   ]
  },
  {
   "cell_type": "code",
   "execution_count": null,
   "id": "53ef0ea6-4cdb-4893-a129-f855f984f821",
   "metadata": {},
   "outputs": [],
   "source": []
  }
 ],
 "metadata": {
  "kernelspec": {
   "display_name": "venv",
   "language": "python",
   "name": "venv"
  },
  "language_info": {
   "codemirror_mode": {
    "name": "ipython",
    "version": 3
   },
   "file_extension": ".py",
   "mimetype": "text/x-python",
   "name": "python",
   "nbconvert_exporter": "python",
   "pygments_lexer": "ipython3",
   "version": "3.9.1"
  }
 },
 "nbformat": 4,
 "nbformat_minor": 5
}
