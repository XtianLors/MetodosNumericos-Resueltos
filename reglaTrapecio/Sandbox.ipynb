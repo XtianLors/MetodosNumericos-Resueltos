{
 "cells": [
  {
   "cell_type": "code",
   "execution_count": null,
   "id": "212144e9-c161-489b-89de-337fb3a672bb",
   "metadata": {},
   "outputs": [],
   "source": []
  },
  {
   "cell_type": "code",
   "execution_count": null,
   "id": "5f9dc036-40c4-4e3d-a786-3ee6b5c252ae",
   "metadata": {},
   "outputs": [],
   "source": []
  },
  {
   "cell_type": "code",
   "execution_count": null,
   "id": "da445728-b85b-47f3-8b15-17c6853aa75f",
   "metadata": {},
   "outputs": [],
   "source": []
  },
  {
   "cell_type": "code",
   "execution_count": null,
   "id": "4dcbb023-5ebf-481f-a96d-2804fbc64b59",
   "metadata": {},
   "outputs": [],
   "source": []
  },
  {
   "cell_type": "code",
   "execution_count": null,
   "id": "6cb84de9-ec7a-4e60-b6e1-d9f91f89b382",
   "metadata": {},
   "outputs": [],
   "source": []
  },
  {
   "cell_type": "code",
   "execution_count": null,
   "id": "b3404929-b6a4-42e7-8a48-9d6bc0d21700",
   "metadata": {},
   "outputs": [],
   "source": []
  },
  {
   "cell_type": "markdown",
   "id": "e6a9f0fd-671c-4fce-acd1-79d462410d93",
   "metadata": {},
   "source": [
    "# References\n",
    "\n",
    "- [plotting](https://www.tutorialspoint.com/how-to-import-matplotlib-in-python)\n",
    "\n",
    "- [](https://www.freecodecamp.org/news/python-lambda-function-explained/#:~:text=Lambda%20functions%20are%20similar%20to,single%20line%20of%20a%20statement.)"
   ]
  },
  {
   "cell_type": "code",
   "execution_count": null,
   "id": "193ee9c6-4565-4761-abc2-73cc14d862c1",
   "metadata": {},
   "outputs": [],
   "source": []
  }
 ],
 "metadata": {
  "kernelspec": {
   "display_name": "venv",
   "language": "python",
   "name": "venv"
  },
  "language_info": {
   "codemirror_mode": {
    "name": "ipython",
    "version": 3
   },
   "file_extension": ".py",
   "mimetype": "text/x-python",
   "name": "python",
   "nbconvert_exporter": "python",
   "pygments_lexer": "ipython3",
   "version": "3.9.1"
  }
 },
 "nbformat": 4,
 "nbformat_minor": 5
}
